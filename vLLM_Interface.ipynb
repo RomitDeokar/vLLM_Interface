{
  "nbformat": 4,
  "nbformat_minor": 0,
  "metadata": {
    "colab": {
      "provenance": [],
      "machine_shape": "hm",
      "gpuType": "A100"
    },
    "kernelspec": {
      "name": "python3",
      "display_name": "Python 3"
    },
    "language_info": {
      "name": "python"
    },
    "accelerator": "GPU"
  },
  "cells": [
    {
      "cell_type": "code",
      "execution_count": null,
      "metadata": {
        "id": "zJ8Wbt31tYSg"
      },
      "outputs": [],
      "source": [
        "!pip install vllm\n",
        "\n",
        "!pip install -U \"huggingface_hub[cli]\""
      ]
    },
    {
      "cell_type": "code",
      "source": [
        "!huggingface-cli login"
      ],
      "metadata": {
        "id": "g-6ZRtPQxsAk"
      },
      "execution_count": null,
      "outputs": []
    },
    {
      "cell_type": "code",
      "source": [
        "!nohup vllm serve meta-llama/Meta-Llama-3.1-8B-Instruct --dtype auto --api-key token-abc123 &"
      ],
      "metadata": {
        "id": "AZc4KxiS22ze",
        "colab": {
          "base_uri": "https://localhost:8080/"
        },
        "outputId": "0b1e6b59-0daf-4cf3-de7d-f4b4101ae041"
      },
      "execution_count": null,
      "outputs": [
        {
          "output_type": "stream",
          "name": "stdout",
          "text": [
            "nohup: appending output to 'nohup.out'\n"
          ]
        }
      ]
    },
    {
      "cell_type": "code",
      "source": [
        "!pip install openai"
      ],
      "metadata": {
        "colab": {
          "base_uri": "https://localhost:8080/"
        },
        "id": "MWgoGbkRlNWp",
        "outputId": "7ef0306b-1d27-413e-d315-ea3d55815878"
      },
      "execution_count": null,
      "outputs": [
        {
          "output_type": "stream",
          "name": "stdout",
          "text": [
            "Requirement already satisfied: openai in /usr/local/lib/python3.10/dist-packages (1.41.0)\n",
            "Requirement already satisfied: anyio<5,>=3.5.0 in /usr/local/lib/python3.10/dist-packages (from openai) (3.7.1)\n",
            "Requirement already satisfied: distro<2,>=1.7.0 in /usr/lib/python3/dist-packages (from openai) (1.7.0)\n",
            "Requirement already satisfied: httpx<1,>=0.23.0 in /usr/local/lib/python3.10/dist-packages (from openai) (0.27.0)\n",
            "Requirement already satisfied: jiter<1,>=0.4.0 in /usr/local/lib/python3.10/dist-packages (from openai) (0.5.0)\n",
            "Requirement already satisfied: pydantic<3,>=1.9.0 in /usr/local/lib/python3.10/dist-packages (from openai) (2.8.2)\n",
            "Requirement already satisfied: sniffio in /usr/local/lib/python3.10/dist-packages (from openai) (1.3.1)\n",
            "Requirement already satisfied: tqdm>4 in /usr/local/lib/python3.10/dist-packages (from openai) (4.66.5)\n",
            "Requirement already satisfied: typing-extensions<5,>=4.11 in /usr/local/lib/python3.10/dist-packages (from openai) (4.12.2)\n",
            "Requirement already satisfied: idna>=2.8 in /usr/local/lib/python3.10/dist-packages (from anyio<5,>=3.5.0->openai) (3.7)\n",
            "Requirement already satisfied: exceptiongroup in /usr/local/lib/python3.10/dist-packages (from anyio<5,>=3.5.0->openai) (1.2.2)\n",
            "Requirement already satisfied: certifi in /usr/local/lib/python3.10/dist-packages (from httpx<1,>=0.23.0->openai) (2024.7.4)\n",
            "Requirement already satisfied: httpcore==1.* in /usr/local/lib/python3.10/dist-packages (from httpx<1,>=0.23.0->openai) (1.0.5)\n",
            "Requirement already satisfied: h11<0.15,>=0.13 in /usr/local/lib/python3.10/dist-packages (from httpcore==1.*->httpx<1,>=0.23.0->openai) (0.14.0)\n",
            "Requirement already satisfied: annotated-types>=0.4.0 in /usr/local/lib/python3.10/dist-packages (from pydantic<3,>=1.9.0->openai) (0.7.0)\n",
            "Requirement already satisfied: pydantic-core==2.20.1 in /usr/local/lib/python3.10/dist-packages (from pydantic<3,>=1.9.0->openai) (2.20.1)\n"
          ]
        }
      ]
    },
    {
      "cell_type": "code",
      "source": [
        "from openai import OpenAI\n",
        "\n",
        "client = OpenAI(\n",
        "    base_url=\"http://localhost:8000/v1\",\n",
        "    api_key=\"token-abc123\",\n",
        ")\n",
        "\n",
        "\n",
        "completion = client.chat.completions.create(\n",
        "  model=\"meta-llama/Meta-Llama-3.1-8B-Instruct\",\n",
        "  messages=[\n",
        "    {\"role\": \"user\", \"content\": \"Who is the best basketball player of recent generation NBA\"}\n",
        "  ]\n",
        ")\n",
        "\n",
        "print(completion.choices[0].message.content)\n"
      ],
      "metadata": {
        "colab": {
          "base_uri": "https://localhost:8080/"
        },
        "id": "DGfwYUX8lPRW",
        "outputId": "54116b97-649f-4b94-87a1-f8ff8a39504b"
      },
      "execution_count": null,
      "outputs": [
        {
          "output_type": "stream",
          "name": "stdout",
          "text": [
            "Determining the \"best\" basketball player of the recent generation in the NBA is subjective and can be influenced by personal opinions, biases, and generational differences. However, based on various accolades, statistics, and expert opinions, I'll provide an analysis of the top candidates.\n",
            "\n",
            "Some of the most notable players of the recent generation (roughly 2000-2020) include:\n",
            "\n",
            "1. **LeBron James**: Regarded by many as the greatest player of his generation. He has won four NBA championships, four MVP awards, and has been named to 18 All-Star Games. LeBron's versatility, athleticism, and ability to dominate the game in multiple facets make him a strong candidate.\n",
            "2. **Kevin Durant**: A two-time NBA champion and two-time NBA Finals MVP, Durant is a prolific scorer and a versatile player who has carried teams to the playoffs single-handedly. He has been named to 11 All-Star Games and has won multiple scoring titles.\n",
            "3. **Stephen Curry**: A two-time NBA champion and two-time NBA MVP, Curry is widely regarded as one of the greatest shooters in NBA history. He has led the Warriors to multiple championships and has been named to eight All-Star Games.\n",
            "4. **Kobe Bryant** (2000-2016): Although he retired in 2016, Bryant's impressive career and dominance during the early 2000s earn him consideration. He won five NBA championships and was the NBA MVP in 2008.\n",
            "5. **James Harden**: A three-time NBA scoring champion, Harden has been one of the most consistent and dominant scorers in the league. He has been named to eight All-Star Games and has led the Houston Rockets to multiple Western Conference Finals appearances.\n",
            "\n",
            "Considering the above players, I would argue that **LeBron James** is the best basketball player of the recent generation in the NBA. His sustained dominance, versatility, and ability to lead teams to championships make a strong case for him as the greatest player of his generation.\n",
            "\n",
            "However, it's essential to note that opinions on the best player of the recent generation will vary depending on individual perspectives, team loyalties, and personal biases.\n"
          ]
        }
      ]
    },
    {
      "cell_type": "code",
      "source": [],
      "metadata": {
        "id": "t-7bgvwaljD4"
      },
      "execution_count": null,
      "outputs": []
    }
  ]
}